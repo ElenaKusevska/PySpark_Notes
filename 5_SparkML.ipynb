{
 "cells": [
  {
   "cell_type": "code",
   "execution_count": 1,
   "id": "3cae42ee-d948-4bec-82cb-b7a9e67df0fc",
   "metadata": {},
   "outputs": [],
   "source": [
    "import pyspark"
   ]
  },
  {
   "cell_type": "code",
   "execution_count": 2,
   "id": "313893d0-e4e0-4b55-ab52-da07521a3e0c",
   "metadata": {},
   "outputs": [],
   "source": [
    "from pyspark.sql import SparkSession"
   ]
  },
  {
   "cell_type": "code",
   "execution_count": 3,
   "id": "edda6664-d496-45cb-b9ab-6e93408ce82e",
   "metadata": {},
   "outputs": [
    {
     "name": "stderr",
     "output_type": "stream",
     "text": [
      "24/04/24 01:47:24 WARN Utils: Your hostname, elena-VB resolves to a loopback address: 127.0.1.1; using 10.0.2.15 instead (on interface enp0s3)\n",
      "24/04/24 01:47:24 WARN Utils: Set SPARK_LOCAL_IP if you need to bind to another address\n",
      "Setting default log level to \"WARN\".\n",
      "To adjust logging level use sc.setLogLevel(newLevel). For SparkR, use setLogLevel(newLevel).\n",
      "24/04/24 01:47:24 WARN NativeCodeLoader: Unable to load native-hadoop library for your platform... using builtin-java classes where applicable\n"
     ]
    }
   ],
   "source": [
    "spark = SparkSession.builder.appName('Practice').getOrCreate()"
   ]
  },
  {
   "cell_type": "code",
   "execution_count": 4,
   "id": "cdbae2fa-5ffd-4a4b-b7c9-d6e9b82323cd",
   "metadata": {},
   "outputs": [
    {
     "data": {
      "text/html": [
       "\n",
       "            <div>\n",
       "                <p><b>SparkSession - in-memory</b></p>\n",
       "                \n",
       "        <div>\n",
       "            <p><b>SparkContext</b></p>\n",
       "\n",
       "            <p><a href=\"http://10.0.2.15:4040\">Spark UI</a></p>\n",
       "\n",
       "            <dl>\n",
       "              <dt>Version</dt>\n",
       "                <dd><code>v3.5.1</code></dd>\n",
       "              <dt>Master</dt>\n",
       "                <dd><code>local[*]</code></dd>\n",
       "              <dt>AppName</dt>\n",
       "                <dd><code>Practice</code></dd>\n",
       "            </dl>\n",
       "        </div>\n",
       "        \n",
       "            </div>\n",
       "        "
      ],
      "text/plain": [
       "<pyspark.sql.session.SparkSession at 0x7f32149e23e0>"
      ]
     },
     "execution_count": 4,
     "metadata": {},
     "output_type": "execute_result"
    }
   ],
   "source": [
    "spark"
   ]
  },
  {
   "cell_type": "code",
   "execution_count": 5,
   "id": "67fd2d9d-8154-45c6-8eef-b32e9b6b5112",
   "metadata": {},
   "outputs": [],
   "source": [
    "df = spark.read.csv('class_grades.csv', header=True, inferSchema=True)"
   ]
  },
  {
   "cell_type": "code",
   "execution_count": 6,
   "id": "eeb4417d-0997-4559-8258-bbf33d31ef52",
   "metadata": {},
   "outputs": [
    {
     "name": "stdout",
     "output_type": "stream",
     "text": [
      "+------+----------+--------+-------+--------+-----+\n",
      "|Prefix|Assignment|Tutorial|Midterm|TakeHome|Final|\n",
      "+------+----------+--------+-------+--------+-----+\n",
      "|     5|     57.14|   34.09|  64.38|   51.48| 52.5|\n",
      "|     8|     95.05|  105.49|   67.5|   99.07|68.33|\n",
      "|     8|      83.7|   83.17|   30.0|   63.15|48.89|\n",
      "|     7|     81.22|   96.06|  49.38|  105.93|80.56|\n",
      "|     8|     91.32|   93.64|   95.0|  107.41|73.89|\n",
      "|     7|      95.0|   92.58|  93.12|   97.78|68.06|\n",
      "|     8|     95.05|  102.99|  56.25|   99.07| 50.0|\n",
      "|     7|     72.85|   86.85|   60.0|    NULL|56.11|\n",
      "|     8|     84.26|    93.1|   47.5|   18.52|50.83|\n",
      "|     7|      90.1|   97.55|  51.25|   88.89|63.61|\n",
      "+------+----------+--------+-------+--------+-----+\n",
      "only showing top 10 rows\n",
      "\n"
     ]
    }
   ],
   "source": [
    "df.show(10)"
   ]
  },
  {
   "cell_type": "code",
   "execution_count": 7,
   "id": "eaa3bcd2-2d3a-41bc-afe2-aeb028f33cb3",
   "metadata": {},
   "outputs": [],
   "source": [
    "df = df.na.drop()"
   ]
  },
  {
   "cell_type": "code",
   "execution_count": 33,
   "id": "8d033dcf-c022-4319-b01b-842e2f9c82c5",
   "metadata": {},
   "outputs": [],
   "source": [
    "df = df.drop('Assignment', 'Tutorial', 'Takehome')"
   ]
  },
  {
   "cell_type": "code",
   "execution_count": 34,
   "id": "15b9a097-81cb-4bf3-b11f-6aa533623fab",
   "metadata": {},
   "outputs": [
    {
     "name": "stdout",
     "output_type": "stream",
     "text": [
      "+------+-------+-----+\n",
      "|Prefix|Midterm|Final|\n",
      "+------+-------+-----+\n",
      "|     5|  64.38| 52.5|\n",
      "|     8|   67.5|68.33|\n",
      "|     8|   30.0|48.89|\n",
      "|     7|  49.38|80.56|\n",
      "|     8|   95.0|73.89|\n",
      "|     7|  93.12|68.06|\n",
      "|     8|  56.25| 50.0|\n",
      "|     8|   47.5|50.83|\n",
      "|     7|  51.25|63.61|\n",
      "|     7|   75.0|39.72|\n",
      "+------+-------+-----+\n",
      "only showing top 10 rows\n",
      "\n"
     ]
    }
   ],
   "source": [
    "df.show(10)"
   ]
  },
  {
   "cell_type": "code",
   "execution_count": 35,
   "id": "cac055a3-8844-4216-9159-1ea0468f61c0",
   "metadata": {},
   "outputs": [
    {
     "name": "stdout",
     "output_type": "stream",
     "text": [
      "root\n",
      " |-- Prefix: integer (nullable = true)\n",
      " |-- Midterm: double (nullable = true)\n",
      " |-- Final: double (nullable = true)\n",
      "\n"
     ]
    }
   ],
   "source": [
    "df.printSchema()"
   ]
  },
  {
   "cell_type": "code",
   "execution_count": 36,
   "id": "e55c3149-d81b-4a18-827d-4235332c22a3",
   "metadata": {},
   "outputs": [],
   "source": [
    "from pyspark.ml.feature import VectorAssembler"
   ]
  },
  {
   "cell_type": "code",
   "execution_count": 37,
   "id": "782b27c9-c3eb-42b3-a158-ba9bde491243",
   "metadata": {},
   "outputs": [],
   "source": [
    "assembler = VectorAssembler().setInputCols(['Midterm']).setOutputCol('MidtermVector')"
   ]
  },
  {
   "cell_type": "code",
   "execution_count": 38,
   "id": "0076ea53-2d5b-4bae-a36e-6ec2fca57bf9",
   "metadata": {},
   "outputs": [],
   "source": [
    "data = assembler.transform(df)"
   ]
  },
  {
   "cell_type": "code",
   "execution_count": 39,
   "id": "2aef6452-5e37-4ef3-b8d9-4a6e72c9c01a",
   "metadata": {},
   "outputs": [],
   "source": [
    "from pyspark.ml.regression import LinearRegression"
   ]
  },
  {
   "cell_type": "code",
   "execution_count": 40,
   "id": "4018e6da-066c-47c8-a780-537dc26230db",
   "metadata": {},
   "outputs": [],
   "source": [
    "train_data,test_data = data.randomSplit([0.75,0.25])"
   ]
  },
  {
   "cell_type": "code",
   "execution_count": 41,
   "id": "6f2663c7-f4a3-488b-9087-f3502aa38bef",
   "metadata": {},
   "outputs": [],
   "source": [
    "regressor = LinearRegression(featuresCol='MidtermVector', labelCol='Final')"
   ]
  },
  {
   "cell_type": "code",
   "execution_count": 42,
   "id": "573fcbec-92d8-4988-bd5b-7273351a67a0",
   "metadata": {},
   "outputs": [
    {
     "name": "stderr",
     "output_type": "stream",
     "text": [
      "24/04/24 02:07:31 WARN Instrumentation: [fb27737a] regParam is zero, which might cause numerical instability and overfitting.\n"
     ]
    }
   ],
   "source": [
    "regressor = regressor.fit(train_data)"
   ]
  },
  {
   "cell_type": "code",
   "execution_count": 43,
   "id": "c21679a7-116b-4344-9764-da060edda22c",
   "metadata": {},
   "outputs": [
    {
     "data": {
      "text/plain": [
       "DenseVector([0.6238])"
      ]
     },
     "execution_count": 43,
     "metadata": {},
     "output_type": "execute_result"
    }
   ],
   "source": [
    "regressor.coefficients"
   ]
  },
  {
   "cell_type": "code",
   "execution_count": 44,
   "id": "170450c7-38b8-475f-a2d3-68577a59b943",
   "metadata": {},
   "outputs": [
    {
     "data": {
      "text/plain": [
       "25.973306503019646"
      ]
     },
     "execution_count": 44,
     "metadata": {},
     "output_type": "execute_result"
    }
   ],
   "source": [
    "regressor.intercept"
   ]
  },
  {
   "cell_type": "code",
   "execution_count": 45,
   "id": "a19d665d-c369-4c51-a9b6-e6c91d12b62e",
   "metadata": {},
   "outputs": [],
   "source": [
    "pred = regressor.evaluate(test_data)"
   ]
  },
  {
   "cell_type": "code",
   "execution_count": 46,
   "id": "1a28fc66-f0d4-4129-92d1-f425a840ec27",
   "metadata": {},
   "outputs": [
    {
     "name": "stdout",
     "output_type": "stream",
     "text": [
      "+------+-------+------+-------------+------------------+\n",
      "|Prefix|Midterm| Final|MidtermVector|        prediction|\n",
      "+------+-------+------+-------------+------------------+\n",
      "|     4|  38.75| 49.17|      [38.75]| 50.14576057557167|\n",
      "|     6|   72.5| 68.33|       [72.5]|  71.1991883161815|\n",
      "|     7|  41.25| 39.72|      [41.25]|51.705273741542776|\n",
      "|     7|  41.25| 46.67|      [41.25]|51.705273741542776|\n",
      "|     7|   75.0| 39.72|       [75.0]|  72.7587014821526|\n",
      "|     7|  83.12| 75.83|      [83.12]| 77.82400024522674|\n",
      "|     7|  86.25| 83.33|      [86.25]| 79.77651072902255|\n",
      "|     7|  96.25| 88.89|      [96.25]| 86.01456339290695|\n",
      "|     7|  99.38|  95.0|      [99.38]| 87.96707387670276|\n",
      "|     7| 101.25|107.78|     [101.25]| 89.13358972484914|\n",
      "|     7| 106.25|102.78|     [106.25]| 92.25261605679134|\n",
      "|     8|   37.5| 28.06|       [37.5]| 49.36600399258613|\n",
      "|     8|   47.5| 50.83|       [47.5]| 55.60405665647052|\n",
      "|     8|  56.25|  50.0|      [56.25]|61.062352737369366|\n",
      "|     8|  56.25| 66.39|      [56.25]|61.062352737369366|\n",
      "|     8|   67.5| 68.33|       [67.5]| 68.08016198423931|\n",
      "|     8|   70.0|  80.0|       [70.0]| 69.63967515021041|\n",
      "|     8|  79.38| 91.11|      [79.38]| 75.49096854893396|\n",
      "|     8|  81.25| 71.11|      [81.25]| 76.65748439708035|\n",
      "|     8|   87.5| 87.78|       [87.5]|  80.5562673120081|\n",
      "+------+-------+------+-------------+------------------+\n",
      "\n"
     ]
    }
   ],
   "source": [
    "pred.predictions.show()"
   ]
  },
  {
   "cell_type": "code",
   "execution_count": 48,
   "id": "1de8d72d-500b-4117-bc0f-03d11c8629b4",
   "metadata": {},
   "outputs": [
    {
     "data": {
      "text/plain": [
       "9.00021581863453"
      ]
     },
     "execution_count": 48,
     "metadata": {},
     "output_type": "execute_result"
    }
   ],
   "source": [
    "pred.meanAbsoluteError"
   ]
  },
  {
   "cell_type": "code",
   "execution_count": 49,
   "id": "8cf55f23-6d62-489a-8f20-4b065517340b",
   "metadata": {},
   "outputs": [
    {
     "data": {
      "text/plain": [
       "143.2197769348384"
      ]
     },
     "execution_count": 49,
     "metadata": {},
     "output_type": "execute_result"
    }
   ],
   "source": [
    "pred.meanSquaredError"
   ]
  },
  {
   "cell_type": "code",
   "execution_count": null,
   "id": "93db9ae5-69d6-4ca2-afdb-9b66d60187c8",
   "metadata": {},
   "outputs": [],
   "source": []
  }
 ],
 "metadata": {
  "kernelspec": {
   "display_name": "Python 3 (ipykernel)",
   "language": "python",
   "name": "python3"
  },
  "language_info": {
   "codemirror_mode": {
    "name": "ipython",
    "version": 3
   },
   "file_extension": ".py",
   "mimetype": "text/x-python",
   "name": "python",
   "nbconvert_exporter": "python",
   "pygments_lexer": "ipython3",
   "version": "3.10.8"
  }
 },
 "nbformat": 4,
 "nbformat_minor": 5
}
