{
 "cells": [
  {
   "cell_type": "markdown",
   "id": "fcd0f063-da81-4810-a952-be024c3426e8",
   "metadata": {},
   "source": [
    "In order to use dataframes and the SQL engine in Apache Spark (SparkSQL), we need a Spark Session.\n"
   ]
  },
  {
   "cell_type": "code",
   "execution_count": 3,
   "id": "3cae42ee-d948-4bec-82cb-b7a9e67df0fc",
   "metadata": {},
   "outputs": [],
   "source": [
    "import pyspark"
   ]
  },
  {
   "cell_type": "code",
   "execution_count": 4,
   "id": "313893d0-e4e0-4b55-ab52-da07521a3e0c",
   "metadata": {},
   "outputs": [],
   "source": [
    "from pyspark.sql import SparkSession"
   ]
  },
  {
   "cell_type": "code",
   "execution_count": 18,
   "id": "edda6664-d496-45cb-b9ab-6e93408ce82e",
   "metadata": {},
   "outputs": [],
   "source": [
    "spark = SparkSession.builder.appName('Practice').getOrCreate()"
   ]
  },
  {
   "cell_type": "code",
   "execution_count": 19,
   "id": "cdbae2fa-5ffd-4a4b-b7c9-d6e9b82323cd",
   "metadata": {},
   "outputs": [
    {
     "data": {
      "text/html": [
       "\n",
       "            <div>\n",
       "                <p><b>SparkSession - in-memory</b></p>\n",
       "                \n",
       "        <div>\n",
       "            <p><b>SparkContext</b></p>\n",
       "\n",
       "            <p><a href=\"http://10.0.2.15:4040\">Spark UI</a></p>\n",
       "\n",
       "            <dl>\n",
       "              <dt>Version</dt>\n",
       "                <dd><code>v3.5.1</code></dd>\n",
       "              <dt>Master</dt>\n",
       "                <dd><code>local[*]</code></dd>\n",
       "              <dt>AppName</dt>\n",
       "                <dd><code>Practice</code></dd>\n",
       "            </dl>\n",
       "        </div>\n",
       "        \n",
       "            </div>\n",
       "        "
      ],
      "text/plain": [
       "<pyspark.sql.session.SparkSession at 0x7f50354e3850>"
      ]
     },
     "execution_count": 19,
     "metadata": {},
     "output_type": "execute_result"
    }
   ],
   "source": [
    "spark"
   ]
  },
  {
   "cell_type": "markdown",
   "id": "fa0c40b2-576e-47dc-84f3-c11d0af8cc1e",
   "metadata": {},
   "source": [
    "## Spark Dataframes\n",
    "\n",
    "A DataFrame is two-dimensional. Columns can be of different data types. DataFrames accept many data inputs including series and other DataFrames. You can pass indexes (row labels) and columns (column labels). Indexes can be numbers, dates, or strings/tuples."
   ]
  },
  {
   "cell_type": "markdown",
   "id": "4db4eee9-35f2-4014-9b6d-19086fab169a",
   "metadata": {},
   "source": [
    "### Read dataset as Spark dataframe from file"
   ]
  },
  {
   "cell_type": "code",
   "execution_count": 7,
   "id": "632d3571-7af9-4305-a126-db84941b5094",
   "metadata": {},
   "outputs": [
    {
     "name": "stderr",
     "output_type": "stream",
     "text": [
      "                                                                                \r"
     ]
    }
   ],
   "source": [
    "# Read Dataset as Spark dataframe from json file\n",
    "df = spark.read.json('people.json')"
   ]
  },
  {
   "cell_type": "code",
   "execution_count": 8,
   "id": "f284da36-e51d-40cc-934d-c98cb222d104",
   "metadata": {},
   "outputs": [
    {
     "name": "stdout",
     "output_type": "stream",
     "text": [
      "+---+-------+\n",
      "|age|   name|\n",
      "+---+-------+\n",
      "| 25|Michael|\n",
      "| 24|   Andy|\n",
      "| 19| Justin|\n",
      "| 26| George|\n",
      "| 30|   Jeff|\n",
      "+---+-------+\n",
      "\n",
      "root\n",
      " |-- age: long (nullable = true)\n",
      " |-- name: string (nullable = true)\n",
      "\n"
     ]
    },
    {
     "data": {
      "text/plain": [
       "[('age', 'bigint'), ('name', 'string')]"
      ]
     },
     "execution_count": 8,
     "metadata": {},
     "output_type": "execute_result"
    }
   ],
   "source": [
    "df.show()\n",
    "df.head(2)\n",
    "df.printSchema()\n",
    "df.dtypes"
   ]
  },
  {
   "cell_type": "code",
   "execution_count": 9,
   "id": "ced880ea-eeee-408e-849c-586ce553b3b7",
   "metadata": {},
   "outputs": [],
   "source": [
    "# Read Dataset as Spark dataframe from csv file\n",
    "df = spark.read.option('header','true').csv('people.csv', inferSchema=True)"
   ]
  },
  {
   "cell_type": "code",
   "execution_count": 10,
   "id": "9a27097c-c274-4372-ac01-80c31f1f308c",
   "metadata": {},
   "outputs": [
    {
     "name": "stdout",
     "output_type": "stream",
     "text": [
      "+-------+---+\n",
      "|   name|age|\n",
      "+-------+---+\n",
      "|Michael| 25|\n",
      "|   Andy| 24|\n",
      "| Justin| 19|\n",
      "| George| 26|\n",
      "|   Jeff| 30|\n",
      "+-------+---+\n",
      "\n",
      "root\n",
      " |-- name: string (nullable = true)\n",
      " |-- age: integer (nullable = true)\n",
      "\n"
     ]
    },
    {
     "data": {
      "text/plain": [
       "[('name', 'string'), ('age', 'int')]"
      ]
     },
     "execution_count": 10,
     "metadata": {},
     "output_type": "execute_result"
    }
   ],
   "source": [
    "df.show()\n",
    "df.head(2)\n",
    "df.printSchema()\n",
    "df.dtypes"
   ]
  },
  {
   "cell_type": "code",
   "execution_count": 11,
   "id": "6aa3fe9b-1f10-47bd-9732-e0059eeb7073",
   "metadata": {},
   "outputs": [
    {
     "name": "stdout",
     "output_type": "stream",
     "text": [
      "+-------+\n",
      "|   name|\n",
      "+-------+\n",
      "|Michael|\n",
      "|   Andy|\n",
      "| Justin|\n",
      "| George|\n",
      "|   Jeff|\n",
      "+-------+\n",
      "\n"
     ]
    }
   ],
   "source": [
    "df.select(\"name\").show()"
   ]
  },
  {
   "cell_type": "code",
   "execution_count": 13,
   "id": "19c7abad-8937-4ac1-a7c8-604c5ae8b042",
   "metadata": {},
   "outputs": [
    {
     "name": "stdout",
     "output_type": "stream",
     "text": [
      "+-------+\n",
      "|   name|\n",
      "+-------+\n",
      "|Michael|\n",
      "|   Andy|\n",
      "| Justin|\n",
      "| George|\n",
      "|   Jeff|\n",
      "+-------+\n",
      "\n"
     ]
    }
   ],
   "source": [
    "df.select(df[\"name\"]).show()"
   ]
  },
  {
   "cell_type": "markdown",
   "id": "ccc69fce-46b3-4c37-88bc-0650a4328644",
   "metadata": {},
   "source": [
    "### Add and drop a column"
   ]
  },
  {
   "cell_type": "code",
   "execution_count": 14,
   "id": "1ec4b115-895d-48bd-9926-bda34b4dd156",
   "metadata": {},
   "outputs": [
    {
     "name": "stdout",
     "output_type": "stream",
     "text": [
      "+-------+---+-----------+\n",
      "|   name|age|name_length|\n",
      "+-------+---+-----------+\n",
      "|Michael| 25|          7|\n",
      "|   Andy| 24|          4|\n",
      "| Justin| 19|          6|\n",
      "| George| 26|          6|\n",
      "|   Jeff| 30|          4|\n",
      "+-------+---+-----------+\n",
      "\n"
     ]
    }
   ],
   "source": [
    "# add a column\n",
    "\n",
    "from pyspark.sql.functions import length\n",
    "\n",
    "df = df.withColumn('name_length', length(df['name']))\n",
    "df.show()"
   ]
  },
  {
   "cell_type": "code",
   "execution_count": 15,
   "id": "ab378d13-e59d-49ee-aa43-09f6b70d19b9",
   "metadata": {},
   "outputs": [
    {
     "name": "stdout",
     "output_type": "stream",
     "text": [
      "+-------+---+\n",
      "|   name|age|\n",
      "+-------+---+\n",
      "|Michael| 25|\n",
      "|   Andy| 24|\n",
      "| Justin| 19|\n",
      "| George| 26|\n",
      "|   Jeff| 30|\n",
      "+-------+---+\n",
      "\n"
     ]
    }
   ],
   "source": [
    "# drop a column\n",
    "\n",
    "df = df.drop('name_length')\n",
    "df.show()"
   ]
  },
  {
   "cell_type": "code",
   "execution_count": 16,
   "id": "95b9b719-79ad-44fd-8843-0bb60d2725c7",
   "metadata": {},
   "outputs": [],
   "source": [
    "spark.stop()"
   ]
  },
  {
   "cell_type": "markdown",
   "id": "5ecc747c-ff14-4a57-87ac-76575e69fb48",
   "metadata": {},
   "source": [
    "### Missing Values"
   ]
  },
  {
   "cell_type": "code",
   "execution_count": 25,
   "id": "67fd2d9d-8154-45c6-8eef-b32e9b6b5112",
   "metadata": {},
   "outputs": [],
   "source": [
    "df = spark.read.csv('class_grades.csv', header=True, inferSchema=True)"
   ]
  },
  {
   "cell_type": "code",
   "execution_count": 26,
   "id": "eeb4417d-0997-4559-8258-bbf33d31ef52",
   "metadata": {},
   "outputs": [
    {
     "name": "stdout",
     "output_type": "stream",
     "text": [
      "+------+----------+--------+-------+--------+-----+\n",
      "|Prefix|Assignment|Tutorial|Midterm|TakeHome|Final|\n",
      "+------+----------+--------+-------+--------+-----+\n",
      "|     5|     57.14|   34.09|  64.38|   51.48| 52.5|\n",
      "|     8|     95.05|  105.49|   67.5|   99.07|68.33|\n",
      "|     8|      83.7|   83.17|   30.0|   63.15|48.89|\n",
      "|     7|     81.22|   96.06|  49.38|  105.93|80.56|\n",
      "|     8|     91.32|   93.64|   95.0|  107.41|73.89|\n",
      "|     7|      95.0|   92.58|  93.12|   97.78|68.06|\n",
      "|     8|     95.05|  102.99|  56.25|   99.07| 50.0|\n",
      "|     7|     72.85|   86.85|   60.0|    NULL|56.11|\n",
      "|     8|     84.26|    93.1|   47.5|   18.52|50.83|\n",
      "|     7|      90.1|   97.55|  51.25|   88.89|63.61|\n",
      "+------+----------+--------+-------+--------+-----+\n",
      "only showing top 10 rows\n",
      "\n"
     ]
    }
   ],
   "source": [
    "df.show(10)"
   ]
  },
  {
   "cell_type": "code",
   "execution_count": 27,
   "id": "eaa3bcd2-2d3a-41bc-afe2-aeb028f33cb3",
   "metadata": {},
   "outputs": [],
   "source": [
    "df = df.na.drop()"
   ]
  },
  {
   "cell_type": "code",
   "execution_count": 28,
   "id": "15b9a097-81cb-4bf3-b11f-6aa533623fab",
   "metadata": {},
   "outputs": [
    {
     "name": "stdout",
     "output_type": "stream",
     "text": [
      "+------+----------+--------+-------+--------+-----+\n",
      "|Prefix|Assignment|Tutorial|Midterm|TakeHome|Final|\n",
      "+------+----------+--------+-------+--------+-----+\n",
      "|     5|     57.14|   34.09|  64.38|   51.48| 52.5|\n",
      "|     8|     95.05|  105.49|   67.5|   99.07|68.33|\n",
      "|     8|      83.7|   83.17|   30.0|   63.15|48.89|\n",
      "|     7|     81.22|   96.06|  49.38|  105.93|80.56|\n",
      "|     8|     91.32|   93.64|   95.0|  107.41|73.89|\n",
      "|     7|      95.0|   92.58|  93.12|   97.78|68.06|\n",
      "|     8|     95.05|  102.99|  56.25|   99.07| 50.0|\n",
      "|     8|     84.26|    93.1|   47.5|   18.52|50.83|\n",
      "|     7|      90.1|   97.55|  51.25|   88.89|63.61|\n",
      "|     7|     80.44|    90.2|   75.0|   91.48|39.72|\n",
      "+------+----------+--------+-------+--------+-----+\n",
      "only showing top 10 rows\n",
      "\n"
     ]
    }
   ],
   "source": [
    "df.show(10)"
   ]
  },
  {
   "cell_type": "markdown",
   "id": "cedf027d-7c21-4a98-83bc-91ffeeba1996",
   "metadata": {},
   "source": [
    "## Filtering"
   ]
  },
  {
   "cell_type": "code",
   "execution_count": 31,
   "id": "5b696e90-b09e-47cf-bda0-e2e6596438c6",
   "metadata": {},
   "outputs": [
    {
     "name": "stdout",
     "output_type": "stream",
     "text": [
      "+------+----------+--------+-------+--------+-----+\n",
      "|Prefix|Assignment|Tutorial|Midterm|TakeHome|Final|\n",
      "+------+----------+--------+-------+--------+-----+\n",
      "|     8|     95.05|  105.49|   67.5|   99.07|68.33|\n",
      "|     7|     81.22|   96.06|  49.38|  105.93|80.56|\n",
      "|     8|     91.32|   93.64|   95.0|  107.41|73.89|\n",
      "|     7|      95.0|   92.58|  93.12|   97.78|68.06|\n",
      "|     7|      90.1|   97.55|  51.25|   88.89|63.61|\n",
      "|     6|     86.26|    80.6|  74.38|   87.59| 77.5|\n",
      "|     8|     97.16|  103.71|   72.5|   93.52|63.33|\n",
      "|     7|     91.28|   83.53|  81.25|   99.81|92.22|\n",
      "|     7|     93.83|   95.43|  88.12|   80.93| 90.0|\n",
      "|     8|     55.14|   81.85|   75.0|   56.11| 62.5|\n",
      "+------+----------+--------+-------+--------+-----+\n",
      "only showing top 10 rows\n",
      "\n"
     ]
    }
   ],
   "source": [
    "df.filter(df[\"Final\"] > 60).show(10)"
   ]
  },
  {
   "cell_type": "markdown",
   "id": "6ce190e9-16b9-4f5d-8ecb-1d6016b47fb6",
   "metadata": {},
   "source": [
    "## Group By and Aggregation"
   ]
  },
  {
   "cell_type": "code",
   "execution_count": 32,
   "id": "6504d57c-ef55-469d-9605-73bb6de8cc28",
   "metadata": {},
   "outputs": [
    {
     "name": "stdout",
     "output_type": "stream",
     "text": [
      "+------+-----------------+\n",
      "|Prefix|       avg(Final)|\n",
      "+------+-----------------+\n",
      "|     6|60.63428571428572|\n",
      "|     5|           51.665|\n",
      "|     4|57.68666666666667|\n",
      "|     8|67.06099999999999|\n",
      "|     7|74.47848484848484|\n",
      "+------+-----------------+\n",
      "\n"
     ]
    }
   ],
   "source": [
    "df.groupBy(\"Prefix\").avg('Final').show()"
   ]
  },
  {
   "cell_type": "code",
   "execution_count": null,
   "id": "cac055a3-8844-4216-9159-1ea0468f61c0",
   "metadata": {},
   "outputs": [],
   "source": []
  }
 ],
 "metadata": {
  "kernelspec": {
   "display_name": "Python 3 (ipykernel)",
   "language": "python",
   "name": "python3"
  },
  "language_info": {
   "codemirror_mode": {
    "name": "ipython",
    "version": 3
   },
   "file_extension": ".py",
   "mimetype": "text/x-python",
   "name": "python",
   "nbconvert_exporter": "python",
   "pygments_lexer": "ipython3",
   "version": "3.10.8"
  }
 },
 "nbformat": 4,
 "nbformat_minor": 5
}
